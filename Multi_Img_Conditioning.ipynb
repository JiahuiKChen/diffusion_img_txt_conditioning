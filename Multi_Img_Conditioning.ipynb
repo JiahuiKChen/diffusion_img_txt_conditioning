{
 "cells": [
  {
   "cell_type": "code",
   "execution_count": null,
   "id": "c8f169e0",
   "metadata": {},
   "outputs": [],
   "source": [
    "# reference: https://huggingface.co/docs/diffusers/main/en/api/pipelines/stable_unclip#text-guided-image-to-image-variation\n",
    "\n",
    "# NEED THIS TO SAVE TO BIGGER DRIVE\n",
    "import os\n",
    "# os.environ['HF_HOME'] = '/datastor1/jiahuikchen/hf_cache' # CS A40 box\n",
    "os.environ['HF_HOME'] = '/home/jc98685/hf_cache' # MIDI-02\n",
    "\n",
    "import matplotlib\n",
    "import matplotlib.pyplot as plt\n",
    "%matplotlib inline\n",
    "import numpy as np\n",
    "\n",
    "from diffusers import StableUnCLIPImg2ImgPipeline\n",
    "from diffusers.utils import load_image, logging\n",
    "import torch"
   ]
  },
  {
   "cell_type": "markdown",
   "id": "8d756890",
   "metadata": {},
   "source": [
    "### Image and Text Conditioned UnClip"
   ]
  },
  {
   "cell_type": "code",
   "execution_count": null,
   "id": "1bae762e",
   "metadata": {},
   "outputs": [],
   "source": [
    "img_txt_pipe = StableUnCLIPImg2ImgPipeline.from_pretrained(\n",
    "    \"stabilityai/stable-diffusion-2-1-unclip\", torch_dtype=torch.float16, \n",
    ")\n",
    "img_txt_pipe.set_progress_bar_config(disable=True)\n",
    "\n",
    "img_txt_pipe = img_txt_pipe.to(\"cuda:0\")"
   ]
  },
  {
   "cell_type": "code",
   "execution_count": null,
   "id": "18110c46",
   "metadata": {},
   "outputs": [],
   "source": [
    "# text and image generation\n",
    "# prompts_and_imgs is list of tuples (prompt, image)\n",
    "def gen_images_from_text_and_img(prompts_and_imgs):\n",
    "    for tup in prompts_and_imgs:\n",
    "        prompt = tup[0]\n",
    "        img = tup[1]\n",
    "        images = img_txt_pipe(img, prompt=prompt, num_images_per_prompt=4).images\n",
    "\n",
    "        f, axarr = plt.subplots(1,4, figsize=(20, 20))\n",
    "        axarr[0].imshow(images[0]); axarr[0].axis(\"off\"); axarr[0].set_title(prompt)\n",
    "        axarr[1].imshow(images[1]); axarr[1].axis(\"off\"); axarr[1].set_title(prompt)\n",
    "        axarr[2].imshow(images[2]); axarr[2].axis(\"off\"); axarr[2].set_title(prompt)\n",
    "        axarr[3].imshow(images[3]); axarr[3].axis(\"off\"); axarr[3].set_title(prompt)"
   ]
  },
  {
   "cell_type": "markdown",
   "id": "7a6a65c1",
   "metadata": {},
   "source": [
    "## Mixup\n",
    "\n",
    "Lot of repos... most include training too?\n",
    "https://github.com/facebookresearch/mixup-cifar10"
   ]
  }
 ],
 "metadata": {
  "kernelspec": {
   "display_name": "Python 3 (ipykernel)",
   "language": "python",
   "name": "python3"
  },
  "language_info": {
   "codemirror_mode": {
    "name": "ipython",
    "version": 3
   },
   "file_extension": ".py",
   "mimetype": "text/x-python",
   "name": "python",
   "nbconvert_exporter": "python",
   "pygments_lexer": "ipython3",
   "version": "3.11.5"
  }
 },
 "nbformat": 4,
 "nbformat_minor": 5
}
