{
 "cells": [
  {
   "cell_type": "code",
   "execution_count": 14,
   "id": "bb79b661",
   "metadata": {},
   "outputs": [],
   "source": [
    "from statistics import mean, stdev"
   ]
  },
  {
   "cell_type": "code",
   "execution_count": 22,
   "id": "daa8cf78",
   "metadata": {},
   "outputs": [],
   "source": [
    "def calc_stats(accs_dict):\n",
    "    for result in accs_dict:\n",
    "        name = result\n",
    "        accs = accs_dict[name]\n",
    "        avg_acc = mean(accs)\n",
    "        acc_stdev = stdev(accs)\n",
    "        print(f\"{name}    \\t{avg_acc} \\u00B1 {acc_stdev}\")"
   ]
  },
  {
   "cell_type": "markdown",
   "id": "8646aa7f",
   "metadata": {},
   "source": [
    "## 30 Class Subset"
   ]
  },
  {
   "cell_type": "code",
   "execution_count": 25,
   "id": "222997aa",
   "metadata": {},
   "outputs": [],
   "source": [
    "result_accs_30 = {\n",
    "    \"baseline_overall\": [0.249, 0.307, 0.274, 0.207, 0.248],\n",
    "    \"baseline_many\": [0.426, 0.498, 0.420, 0.346, 0.378],\n",
    "    \"baseline_med\": [0.198, 0.232, 0.250, 0.172, 0.200],\n",
    "    \"baseline_few\": [0.122, 0.192, 0.152, 0.102, 0.166],\n",
    "    \"cutmix_many\": [0.699, 0.694, 0.694, 0.689, 0.681],\n",
    "    \"dropout_many\": [0.718, 0.734, 0.739, 0.710, 0.728],\n",
    "    \"embed_cutmix_many\": [0.677, 0.664, 0.645, 0.678, 0.685],\n",
    "    \"embed_mixup_many\": [0.686, 0.692, 0.694, 0.694, 0.681],\n",
    "    \"mixup_many\": [0.669, 0.677, 0.671, 0.689, 0.675],\n",
    "    \"rand_img_cond_many\": [0.645, 0.681, 0.671, 0.686, 0.674]\n",
    "}"
   ]
  },
  {
   "cell_type": "code",
   "execution_count": 26,
   "id": "98a255d7",
   "metadata": {},
   "outputs": [
    {
     "name": "stdout",
     "output_type": "stream",
     "text": [
      "baseline_overall    \t0.257 ± 0.03685783498796423\n",
      "baseline_many    \t0.41359999999999997 ± 0.057348060124122774\n",
      "baseline_med    \t0.2104 ± 0.030705048444840472\n",
      "baseline_few    \t0.14679999999999999 ± 0.0355696499842211\n",
      "cutmix_many    \t0.6914 ± 0.006804410334481563\n",
      "dropout_many    \t0.7258 ± 0.011798304963002111\n",
      "embed_cutmix_many    \t0.6698000000000001 ± 0.0158018986201026\n",
      "embed_mixup_many    \t0.6894 ± 0.005727128425310489\n",
      "mixup_many    \t0.6762 ± 0.00782304288624314\n",
      "rand_img_cond_many    \t0.6714 ± 0.01588395416764983\n"
     ]
    }
   ],
   "source": [
    "calc_stats(result_accs_30)"
   ]
  },
  {
   "cell_type": "markdown",
   "id": "6c8e99eb",
   "metadata": {},
   "source": [
    "## 90 Class Subset"
   ]
  },
  {
   "cell_type": "code",
   "execution_count": 28,
   "id": "a1c254cc",
   "metadata": {},
   "outputs": [],
   "source": [
    "result_accs_90 = {\n",
    "    \"baseline_overall\": [0.430, 0.417, 0.429, 0.450, 0.437],\n",
    "    \"baseline_many\": [0.529, 0.514, 0.527, 0.555, 0.543],\n",
    "    \"baseline_med\": [0.409, 0.389, 0.396, 0.431, 0.410],\n",
    "    \"baseline_few\": [0.351, 0.349, 0.365, 0.364, 0.357],\n",
    "    \"cutmix_many\": [0.636, 0.636, 0.638, 0.646, 0.640],\n",
    "    \"dropout_many\": [0.662, 0.662, 0.660, 0.666, 0.663],\n",
    "    \"embed_cutmix_many\": [0.629, 0.633, 0.635, 0.621, 0.631],\n",
    "    \"embed_mixup_many\": [0.640, 0.618, 0.638, 0.638, 0.634],\n",
    "    \"mixup_many\": [0.629, 0.625, 0.628, 0.625, 0.628],\n",
    "    \"rand_img_cond_many\": [0.641, 0.620, 0.624, 0.629, 0.631]\n",
    "}"
   ]
  },
  {
   "cell_type": "code",
   "execution_count": 29,
   "id": "87a5367e",
   "metadata": {},
   "outputs": [
    {
     "name": "stdout",
     "output_type": "stream",
     "text": [
      "baseline_overall    \t0.4326 ± 0.012095453691366862\n",
      "baseline_many    \t0.5336000000000001 ± 0.015773395322504297\n",
      "baseline_med    \t0.407 ± 0.016077935190813516\n",
      "baseline_few    \t0.35719999999999996 ± 0.007293833011524194\n",
      "cutmix_many    \t0.6392 ± 0.004147288270665548\n",
      "dropout_many    \t0.6626000000000001 ± 0.0021908902300206666\n",
      "embed_cutmix_many    \t0.6298 ± 0.005403702434442523\n",
      "embed_mixup_many    \t0.6336 ± 0.008988882021697701\n",
      "mixup_many    \t0.627 ± 0.0018708286933869723\n",
      "rand_img_cond_many    \t0.629 ± 0.00796868872525462\n"
     ]
    }
   ],
   "source": [
    "calc_stats(result_accs_90)"
   ]
  }
 ],
 "metadata": {
  "kernelspec": {
   "display_name": "Python 3 (ipykernel)",
   "language": "python",
   "name": "python3"
  },
  "language_info": {
   "codemirror_mode": {
    "name": "ipython",
    "version": 3
   },
   "file_extension": ".py",
   "mimetype": "text/x-python",
   "name": "python",
   "nbconvert_exporter": "python",
   "pygments_lexer": "ipython3",
   "version": "3.11.5"
  }
 },
 "nbformat": 4,
 "nbformat_minor": 5
}
