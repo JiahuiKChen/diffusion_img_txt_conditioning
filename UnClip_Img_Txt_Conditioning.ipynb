{
 "cells": [
  {
   "cell_type": "code",
   "execution_count": 1,
   "id": "29a95a08-a7fc-4e47-a9c5-40b178debfe9",
   "metadata": {},
   "outputs": [
    {
     "name": "stderr",
     "output_type": "stream",
     "text": [
      "The cache for model files in Transformers v4.22.0 has been updated. Migrating your old cache. This is a one-time only operation. You can interrupt this and resume the migration later on by calling `transformers.utils.move_cache()`.\n"
     ]
    },
    {
     "data": {
      "application/vnd.jupyter.widget-view+json": {
       "model_id": "c8bae0775c564b0487dbc9a50f945fd4",
       "version_major": 2,
       "version_minor": 0
      },
      "text/plain": [
       "0it [00:00, ?it/s]"
      ]
     },
     "metadata": {},
     "output_type": "display_data"
    }
   ],
   "source": [
    "# reference: https://huggingface.co/docs/diffusers/main/en/api/pipelines/stable_unclip#text-guided-image-to-image-variation\n",
    "\n",
    "# NEED THIS TO SAVE TO BIGGER DRIVE\n",
    "import os\n",
    "os.environ['HF_HOME'] = '/datastor1/jiahuikchen/hf_cache'\n",
    "\n",
    "from diffusers import StableUnCLIPImg2ImgPipeline\n",
    "from diffusers.utils import load_image\n",
    "import torch"
   ]
  },
  {
   "cell_type": "markdown",
   "id": "423bd14b-e7b7-4de1-ac99-14919dde6d90",
   "metadata": {},
   "source": [
    "### Image and Text Conditioned UnClip"
   ]
  },
  {
   "cell_type": "code",
   "execution_count": 2,
   "id": "65187bca-18f3-4d1e-ad02-cb4e0238f57d",
   "metadata": {},
   "outputs": [
    {
     "data": {
      "application/vnd.jupyter.widget-view+json": {
       "model_id": "09e287a8c66345e4a7adcc228c9d1705",
       "version_major": 2,
       "version_minor": 0
      },
      "text/plain": [
       "(…)2-1-unclip/resolve/main/model_index.json:   0%|          | 0.00/707 [00:00<?, ?B/s]"
      ]
     },
     "metadata": {},
     "output_type": "display_data"
    },
    {
     "data": {
      "application/vnd.jupyter.widget-view+json": {
       "model_id": "85a4aec5740143e09bd56e0d145c0e3e",
       "version_major": 2,
       "version_minor": 0
      },
      "text/plain": [
       "Fetching 18 files:   0%|          | 0/18 [00:00<?, ?it/s]"
      ]
     },
     "metadata": {},
     "output_type": "display_data"
    },
    {
     "data": {
      "application/vnd.jupyter.widget-view+json": {
       "model_id": "b999a2b8c614447ab0b27c9940f6d26e",
       "version_major": 2,
       "version_minor": 0
      },
      "text/plain": [
       "(…)81b3b37d8bea44/image_encoder/config.json:   0%|          | 0.00/560 [00:00<?, ?B/s]"
      ]
     },
     "metadata": {},
     "output_type": "display_data"
    },
    {
     "data": {
      "application/vnd.jupyter.widget-view+json": {
       "model_id": "63078a1d8dcc4767940d0770a53b7f42",
       "version_major": 2,
       "version_minor": 0
      },
      "text/plain": [
       "(…)7d8bea44/scheduler/scheduler_config.json:   0%|          | 0.00/470 [00:00<?, ?B/s]"
      ]
     },
     "metadata": {},
     "output_type": "display_data"
    },
    {
     "data": {
      "application/vnd.jupyter.widget-view+json": {
       "model_id": "33396b5974c441e39e28373ae633a39b",
       "version_major": 2,
       "version_minor": 0
      },
      "text/plain": [
       "(…)ature_extractor/preprocessor_config.json:   0%|          | 0.00/466 [00:00<?, ?B/s]"
      ]
     },
     "metadata": {},
     "output_type": "display_data"
    },
    {
     "data": {
      "application/vnd.jupyter.widget-view+json": {
       "model_id": "955d0b2c7be34687bcebc2b3598173e6",
       "version_major": 2,
       "version_minor": 0
      },
      "text/plain": [
       "(…)3b37d8bea44/image_normalizer/config.json:   0%|          | 0.00/156 [00:00<?, ?B/s]"
      ]
     },
     "metadata": {},
     "output_type": "display_data"
    },
    {
     "data": {
      "application/vnd.jupyter.widget-view+json": {
       "model_id": "458cc08cc70d47ddb20a04df0c3e5c77",
       "version_major": 2,
       "version_minor": 0
      },
      "text/plain": [
       "(…)_noising_scheduler/scheduler_config.json:   0%|          | 0.00/424 [00:00<?, ?B/s]"
      ]
     },
     "metadata": {},
     "output_type": "display_data"
    },
    {
     "data": {
      "application/vnd.jupyter.widget-view+json": {
       "model_id": "279035b98fee4d189df4d4f19ba59de5",
       "version_major": 2,
       "version_minor": 0
      },
      "text/plain": [
       "(…)b81b3b37d8bea44/text_encoder/config.json:   0%|          | 0.00/597 [00:00<?, ?B/s]"
      ]
     },
     "metadata": {},
     "output_type": "display_data"
    },
    {
     "data": {
      "application/vnd.jupyter.widget-view+json": {
       "model_id": "d18cebabdf2141f48d8259f4c2a82c7d",
       "version_major": 2,
       "version_minor": 0
      },
      "text/plain": [
       "diffusion_pytorch_model.safetensors:   0%|          | 0.00/8.36k [00:00<?, ?B/s]"
      ]
     },
     "metadata": {},
     "output_type": "display_data"
    },
    {
     "data": {
      "application/vnd.jupyter.widget-view+json": {
       "model_id": "b464c837c30744a1a82673f89dd820d4",
       "version_major": 2,
       "version_minor": 0
      },
      "text/plain": [
       "model.safetensors:   0%|          | 0.00/2.53G [00:00<?, ?B/s]"
      ]
     },
     "metadata": {},
     "output_type": "display_data"
    },
    {
     "data": {
      "application/vnd.jupyter.widget-view+json": {
       "model_id": "83af0198923c45d0b248a5fb33dc52c7",
       "version_major": 2,
       "version_minor": 0
      },
      "text/plain": [
       "diffusion_pytorch_model.safetensors:   0%|          | 0.00/3.48G [00:00<?, ?B/s]"
      ]
     },
     "metadata": {},
     "output_type": "display_data"
    },
    {
     "data": {
      "application/vnd.jupyter.widget-view+json": {
       "model_id": "3df4892b92144c1c9f6edde4abbe7e4a",
       "version_major": 2,
       "version_minor": 0
      },
      "text/plain": [
       "model.safetensors:   0%|          | 0.00/1.36G [00:00<?, ?B/s]"
      ]
     },
     "metadata": {},
     "output_type": "display_data"
    },
    {
     "data": {
      "application/vnd.jupyter.widget-view+json": {
       "model_id": "2245264d1bcb4de9b2fc241d0791ef2d",
       "version_major": 2,
       "version_minor": 0
      },
      "text/plain": [
       "(…)b6a9b81b3b37d8bea44/tokenizer/merges.txt:   0%|          | 0.00/525k [00:00<?, ?B/s]"
      ]
     },
     "metadata": {},
     "output_type": "display_data"
    },
    {
     "data": {
      "application/vnd.jupyter.widget-view+json": {
       "model_id": "de7647fbf6be4813874680de80b5a459",
       "version_major": 2,
       "version_minor": 0
      },
      "text/plain": [
       "(…)b0d4b6a9b81b3b37d8bea44/unet/config.json:   0%|          | 0.00/1.32k [00:00<?, ?B/s]"
      ]
     },
     "metadata": {},
     "output_type": "display_data"
    },
    {
     "data": {
      "application/vnd.jupyter.widget-view+json": {
       "model_id": "a0677c2cf14c49eaaba603b1a4a32940",
       "version_major": 2,
       "version_minor": 0
      },
      "text/plain": [
       "(…)b6a9b81b3b37d8bea44/tokenizer/vocab.json:   0%|          | 0.00/1.06M [00:00<?, ?B/s]"
      ]
     },
     "metadata": {},
     "output_type": "display_data"
    },
    {
     "data": {
      "application/vnd.jupyter.widget-view+json": {
       "model_id": "7155a331855145fea846ad6dde342ea8",
       "version_major": 2,
       "version_minor": 0
      },
      "text/plain": [
       "(…)7d8bea44/tokenizer/tokenizer_config.json:   0%|          | 0.00/755 [00:00<?, ?B/s]"
      ]
     },
     "metadata": {},
     "output_type": "display_data"
    },
    {
     "data": {
      "application/vnd.jupyter.widget-view+json": {
       "model_id": "cfbaf1595b2c47549698fdb1987611be",
       "version_major": 2,
       "version_minor": 0
      },
      "text/plain": [
       "(…)8bea44/tokenizer/special_tokens_map.json:   0%|          | 0.00/460 [00:00<?, ?B/s]"
      ]
     },
     "metadata": {},
     "output_type": "display_data"
    },
    {
     "data": {
      "application/vnd.jupyter.widget-view+json": {
       "model_id": "a033d2a0894945ec81414e15d4b23605",
       "version_major": 2,
       "version_minor": 0
      },
      "text/plain": [
       "(…)fb0d4b6a9b81b3b37d8bea44/vae/config.json:   0%|          | 0.00/610 [00:00<?, ?B/s]"
      ]
     },
     "metadata": {},
     "output_type": "display_data"
    },
    {
     "data": {
      "application/vnd.jupyter.widget-view+json": {
       "model_id": "736f5a824c8d43fcaeffa2d89f45a50c",
       "version_major": 2,
       "version_minor": 0
      },
      "text/plain": [
       "diffusion_pytorch_model.safetensors:   0%|          | 0.00/335M [00:00<?, ?B/s]"
      ]
     },
     "metadata": {},
     "output_type": "display_data"
    },
    {
     "name": "stderr",
     "output_type": "stream",
     "text": [
      "Keyword arguments {'variation': 'fp16'} are not expected by StableUnCLIPImg2ImgPipeline and will be ignored.\n"
     ]
    },
    {
     "data": {
      "application/vnd.jupyter.widget-view+json": {
       "model_id": "00f01594314d4a89a11882bc111f0332",
       "version_major": 2,
       "version_minor": 0
      },
      "text/plain": [
       "Loading pipeline components...:   0%|          | 0/9 [00:00<?, ?it/s]"
      ]
     },
     "metadata": {},
     "output_type": "display_data"
    }
   ],
   "source": [
    "img_txt_pipe = StableUnCLIPImg2ImgPipeline.from_pretrained(\n",
    "    \"stabilityai/stable-diffusion-2-1-unclip\", torch_dtype=torch.float16, variation=\"fp16\"\n",
    ")\n",
    "img_txt_pipe = img_txt_pipe.to(\"cuda\")"
   ]
  },
  {
   "cell_type": "markdown",
   "id": "e5a04a13-14b8-4d7d-a2e3-2ce089e4cc6d",
   "metadata": {},
   "source": [
    "### Text Conditioned UnClip"
   ]
  },
  {
   "cell_type": "code",
   "execution_count": 3,
   "id": "e6b913b3-a452-4bca-9ffd-52a102b8493f",
   "metadata": {},
   "outputs": [
    {
     "data": {
      "application/vnd.jupyter.widget-view+json": {
       "model_id": "91db41d01b484da89a1a417e8525e9f1",
       "version_major": 2,
       "version_minor": 0
      },
      "text/plain": [
       "(…)-v1-alpha/resolve/main/prior/config.json:   0%|          | 0.00/252 [00:00<?, ?B/s]"
      ]
     },
     "metadata": {},
     "output_type": "display_data"
    },
    {
     "data": {
      "application/vnd.jupyter.widget-view+json": {
       "model_id": "23221bdb3aad44d48078d81c75599930",
       "version_major": 2,
       "version_minor": 0
      },
      "text/plain": [
       "diffusion_pytorch_model.safetensors:   0%|          | 0.00/4.09G [00:00<?, ?B/s]"
      ]
     },
     "metadata": {},
     "output_type": "display_data"
    },
    {
     "data": {
      "application/vnd.jupyter.widget-view+json": {
       "model_id": "ffd8621192e4477bb2aa4d532865ba5a",
       "version_major": 2,
       "version_minor": 0
      },
      "text/plain": [
       "(…)tch14/resolve/main/tokenizer_config.json:   0%|          | 0.00/905 [00:00<?, ?B/s]"
      ]
     },
     "metadata": {},
     "output_type": "display_data"
    },
    {
     "data": {
      "application/vnd.jupyter.widget-view+json": {
       "model_id": "7723bfeef4284c61acd8e9737a26ac04",
       "version_major": 2,
       "version_minor": 0
      },
      "text/plain": [
       "(…)it-large-patch14/resolve/main/vocab.json:   0%|          | 0.00/961k [00:00<?, ?B/s]"
      ]
     },
     "metadata": {},
     "output_type": "display_data"
    },
    {
     "data": {
      "application/vnd.jupyter.widget-view+json": {
       "model_id": "13274a76c3e7495b8d3cd59c29e1a731",
       "version_major": 2,
       "version_minor": 0
      },
      "text/plain": [
       "(…)it-large-patch14/resolve/main/merges.txt:   0%|          | 0.00/525k [00:00<?, ?B/s]"
      ]
     },
     "metadata": {},
     "output_type": "display_data"
    },
    {
     "data": {
      "application/vnd.jupyter.widget-view+json": {
       "model_id": "d24fbf6d89824e1bb2cae97a33b4ac53",
       "version_major": 2,
       "version_minor": 0
      },
      "text/plain": [
       "(…)h14/resolve/main/special_tokens_map.json:   0%|          | 0.00/389 [00:00<?, ?B/s]"
      ]
     },
     "metadata": {},
     "output_type": "display_data"
    },
    {
     "data": {
      "application/vnd.jupyter.widget-view+json": {
       "model_id": "e89c2127e169425c905f4d9899665ef9",
       "version_major": 2,
       "version_minor": 0
      },
      "text/plain": [
       "(…)arge-patch14/resolve/main/tokenizer.json:   0%|          | 0.00/2.22M [00:00<?, ?B/s]"
      ]
     },
     "metadata": {},
     "output_type": "display_data"
    },
    {
     "data": {
      "application/vnd.jupyter.widget-view+json": {
       "model_id": "0593b7ad441745d0adda91ac88e2c97a",
       "version_major": 2,
       "version_minor": 0
      },
      "text/plain": [
       "(…)t-large-patch14/resolve/main/config.json:   0%|          | 0.00/4.52k [00:00<?, ?B/s]"
      ]
     },
     "metadata": {},
     "output_type": "display_data"
    },
    {
     "data": {
      "application/vnd.jupyter.widget-view+json": {
       "model_id": "3506edbbbd8e4af5bb3d1619eb987f9c",
       "version_major": 2,
       "version_minor": 0
      },
      "text/plain": [
       "model.safetensors:   0%|          | 0.00/1.71G [00:00<?, ?B/s]"
      ]
     },
     "metadata": {},
     "output_type": "display_data"
    },
    {
     "data": {
      "application/vnd.jupyter.widget-view+json": {
       "model_id": "a9018a0edbc24cb1b6f8b0b3a1493918",
       "version_major": 2,
       "version_minor": 0
      },
      "text/plain": [
       "(…)in/prior_scheduler/scheduler_config.json:   0%|          | 0.00/229 [00:00<?, ?B/s]"
      ]
     },
     "metadata": {},
     "output_type": "display_data"
    },
    {
     "data": {
      "application/vnd.jupyter.widget-view+json": {
       "model_id": "e05326a5d6de49b0a0df965156c93b41",
       "version_major": 2,
       "version_minor": 0
      },
      "text/plain": [
       "(…)clip-small/resolve/main/model_index.json:   0%|          | 0.00/707 [00:00<?, ?B/s]"
      ]
     },
     "metadata": {},
     "output_type": "display_data"
    },
    {
     "name": "stderr",
     "output_type": "stream",
     "text": [
      "/datastor1/jiahuikchen/diffusion_img_txt_conditioning/.env/lib/python3.8/site-packages/diffusers/pipelines/pipeline_utils.py:1480: FutureWarning: You are trying to load the model files of the `variant=fp16`, but no such modeling files are available.The default model files: {'unet/diffusion_pytorch_model.safetensors', 'text_encoder/pytorch_model.bin', 'vae/diffusion_pytorch_model.bin', 'image_normalizer/diffusion_pytorch_model.bin', 'image_encoder/model.safetensors', 'vae/diffusion_pytorch_model.safetensors', 'unet/diffusion_pytorch_model.bin', 'image_normalizer/diffusion_pytorch_model.safetensors', 'image_encoder/pytorch_model.bin', 'text_encoder/model.safetensors'} will be loaded instead. Make sure to not load from `variant=fp16`if such variant modeling files are not available. Doing so will lead to an error in v0.22.0 as defaulting to non-variantmodeling files is deprecated.\n",
      "  deprecate(\"no variant default\", \"0.22.0\", deprecation_message, standard_warn=False)\n"
     ]
    },
    {
     "data": {
      "application/vnd.jupyter.widget-view+json": {
       "model_id": "7d7967b091654b4a96647ede7a2a4883",
       "version_major": 2,
       "version_minor": 0
      },
      "text/plain": [
       "Fetching 18 files:   0%|          | 0/18 [00:00<?, ?it/s]"
      ]
     },
     "metadata": {},
     "output_type": "display_data"
    },
    {
     "data": {
      "application/vnd.jupyter.widget-view+json": {
       "model_id": "9ef1aa22a9944575a1bbbd9b6a8f5d38",
       "version_major": 2,
       "version_minor": 0
      },
      "text/plain": [
       "(…)8b226f246f816c/image_encoder/config.json:   0%|          | 0.00/565 [00:00<?, ?B/s]"
      ]
     },
     "metadata": {},
     "output_type": "display_data"
    },
    {
     "data": {
      "application/vnd.jupyter.widget-view+json": {
       "model_id": "c76dc27c63cf4e4e841a0a4ef539478e",
       "version_major": 2,
       "version_minor": 0
      },
      "text/plain": [
       "(…)ature_extractor/preprocessor_config.json:   0%|          | 0.00/466 [00:00<?, ?B/s]"
      ]
     },
     "metadata": {},
     "output_type": "display_data"
    },
    {
     "data": {
      "application/vnd.jupyter.widget-view+json": {
       "model_id": "20cf8c6341354d58b3d68f3ea73822b5",
       "version_major": 2,
       "version_minor": 0
      },
      "text/plain": [
       "(…)246f816c/scheduler/scheduler_config.json:   0%|          | 0.00/470 [00:00<?, ?B/s]"
      ]
     },
     "metadata": {},
     "output_type": "display_data"
    },
    {
     "data": {
      "application/vnd.jupyter.widget-view+json": {
       "model_id": "8669e2d3503c4060a620aa78ec03c2f6",
       "version_major": 2,
       "version_minor": 0
      },
      "text/plain": [
       "(…)28b226f246f816c/text_encoder/config.json:   0%|          | 0.00/597 [00:00<?, ?B/s]"
      ]
     },
     "metadata": {},
     "output_type": "display_data"
    },
    {
     "data": {
      "application/vnd.jupyter.widget-view+json": {
       "model_id": "2f0679fb649044fe9ab26b439199c011",
       "version_major": 2,
       "version_minor": 0
      },
      "text/plain": [
       "(…)_noising_scheduler/scheduler_config.json:   0%|          | 0.00/424 [00:00<?, ?B/s]"
      ]
     },
     "metadata": {},
     "output_type": "display_data"
    },
    {
     "data": {
      "application/vnd.jupyter.widget-view+json": {
       "model_id": "a4174f1717fa40d7bfa9dd0dd94f2e82",
       "version_major": 2,
       "version_minor": 0
      },
      "text/plain": [
       "(…)26f246f816c/image_normalizer/config.json:   0%|          | 0.00/155 [00:00<?, ?B/s]"
      ]
     },
     "metadata": {},
     "output_type": "display_data"
    },
    {
     "data": {
      "application/vnd.jupyter.widget-view+json": {
       "model_id": "7b2e4512122d4faebcd7bbb7b5122bd4",
       "version_major": 2,
       "version_minor": 0
      },
      "text/plain": [
       "diffusion_pytorch_model.safetensors:   0%|          | 0.00/6.31k [00:00<?, ?B/s]"
      ]
     },
     "metadata": {},
     "output_type": "display_data"
    },
    {
     "data": {
      "application/vnd.jupyter.widget-view+json": {
       "model_id": "d2141b7e988b4ec9a3e1b7c18a8696aa",
       "version_major": 2,
       "version_minor": 0
      },
      "text/plain": [
       "(…)0a9b28b226f246f816c/tokenizer/merges.txt:   0%|          | 0.00/525k [00:00<?, ?B/s]"
      ]
     },
     "metadata": {},
     "output_type": "display_data"
    },
    {
     "data": {
      "application/vnd.jupyter.widget-view+json": {
       "model_id": "73e7867335e44e9b965570d8e38b7700",
       "version_major": 2,
       "version_minor": 0
      },
      "text/plain": [
       "(…)0a9b28b226f246f816c/tokenizer/vocab.json:   0%|          | 0.00/1.06M [00:00<?, ?B/s]"
      ]
     },
     "metadata": {},
     "output_type": "display_data"
    },
    {
     "data": {
      "application/vnd.jupyter.widget-view+json": {
       "model_id": "af06440160184bee8d89c5c9fe9dc52b",
       "version_major": 2,
       "version_minor": 0
      },
      "text/plain": [
       "(…)246f816c/tokenizer/tokenizer_config.json:   0%|          | 0.00/755 [00:00<?, ?B/s]"
      ]
     },
     "metadata": {},
     "output_type": "display_data"
    },
    {
     "data": {
      "application/vnd.jupyter.widget-view+json": {
       "model_id": "d24272b7b9c34e79a7e29bfa17ec6634",
       "version_major": 2,
       "version_minor": 0
      },
      "text/plain": [
       "(…)6f816c/tokenizer/special_tokens_map.json:   0%|          | 0.00/460 [00:00<?, ?B/s]"
      ]
     },
     "metadata": {},
     "output_type": "display_data"
    },
    {
     "data": {
      "application/vnd.jupyter.widget-view+json": {
       "model_id": "d88dc7ae999c4b1184200e19fd622288",
       "version_major": 2,
       "version_minor": 0
      },
      "text/plain": [
       "(…)393c0a9b28b226f246f816c/unet/config.json:   0%|          | 0.00/1.32k [00:00<?, ?B/s]"
      ]
     },
     "metadata": {},
     "output_type": "display_data"
    },
    {
     "data": {
      "application/vnd.jupyter.widget-view+json": {
       "model_id": "d3e08d8dabf74ffe83686e2a4a8781e3",
       "version_major": 2,
       "version_minor": 0
      },
      "text/plain": [
       "model.safetensors:   0%|          | 0.00/1.22G [00:00<?, ?B/s]"
      ]
     },
     "metadata": {},
     "output_type": "display_data"
    },
    {
     "data": {
      "application/vnd.jupyter.widget-view+json": {
       "model_id": "3ea545e3a4404cba9fd23e41bec635ff",
       "version_major": 2,
       "version_minor": 0
      },
      "text/plain": [
       "(…)6393c0a9b28b226f246f816c/vae/config.json:   0%|          | 0.00/610 [00:00<?, ?B/s]"
      ]
     },
     "metadata": {},
     "output_type": "display_data"
    },
    {
     "data": {
      "application/vnd.jupyter.widget-view+json": {
       "model_id": "3f663d6173a845ed8cae2908f029b531",
       "version_major": 2,
       "version_minor": 0
      },
      "text/plain": [
       "model.safetensors:   0%|          | 0.00/1.36G [00:00<?, ?B/s]"
      ]
     },
     "metadata": {},
     "output_type": "display_data"
    },
    {
     "data": {
      "application/vnd.jupyter.widget-view+json": {
       "model_id": "f452869fc05c45e98a79e62d54cbe59d",
       "version_major": 2,
       "version_minor": 0
      },
      "text/plain": [
       "diffusion_pytorch_model.safetensors:   0%|          | 0.00/3.48G [00:00<?, ?B/s]"
      ]
     },
     "metadata": {},
     "output_type": "display_data"
    },
    {
     "data": {
      "application/vnd.jupyter.widget-view+json": {
       "model_id": "ee22280741364a5292930e6144b85dbc",
       "version_major": 2,
       "version_minor": 0
      },
      "text/plain": [
       "diffusion_pytorch_model.safetensors:   0%|          | 0.00/335M [00:00<?, ?B/s]"
      ]
     },
     "metadata": {},
     "output_type": "display_data"
    },
    {
     "data": {
      "application/vnd.jupyter.widget-view+json": {
       "model_id": "125e827ab61c40cdada0f5a63c376eab",
       "version_major": 2,
       "version_minor": 0
      },
      "text/plain": [
       "Loading pipeline components...:   0%|          | 0/7 [00:00<?, ?it/s]"
      ]
     },
     "metadata": {},
     "output_type": "display_data"
    }
   ],
   "source": [
    "import torch\n",
    "from diffusers import UnCLIPScheduler, DDPMScheduler, StableUnCLIPPipeline\n",
    "from diffusers.models import PriorTransformer\n",
    "from transformers import CLIPTokenizer, CLIPTextModelWithProjection\n",
    "\n",
    "prior_model_id = \"kakaobrain/karlo-v1-alpha\"\n",
    "data_type = torch.float16\n",
    "prior = PriorTransformer.from_pretrained(prior_model_id, subfolder=\"prior\", torch_dtype=data_type)\n",
    "\n",
    "prior_text_model_id = \"openai/clip-vit-large-patch14\"\n",
    "prior_tokenizer = CLIPTokenizer.from_pretrained(prior_text_model_id)\n",
    "prior_text_model = CLIPTextModelWithProjection.from_pretrained(prior_text_model_id, torch_dtype=data_type)\n",
    "prior_scheduler = UnCLIPScheduler.from_pretrained(prior_model_id, subfolder=\"prior_scheduler\")\n",
    "prior_scheduler = DDPMScheduler.from_config(prior_scheduler.config)\n",
    "\n",
    "stable_unclip_model_id = \"stabilityai/stable-diffusion-2-1-unclip-small\"\n",
    "\n",
    "txt_pipe = StableUnCLIPPipeline.from_pretrained(\n",
    "    stable_unclip_model_id,\n",
    "    torch_dtype=data_type,\n",
    "    variant=\"fp16\",\n",
    "    prior_tokenizer=prior_tokenizer,\n",
    "    prior_text_encoder=prior_text_model,\n",
    "    prior=prior,\n",
    "    prior_scheduler=prior_scheduler,\n",
    ")\n",
    "\n",
    "txt_pipe = txt_pipe.to(\"cuda\")"
   ]
  },
  {
   "cell_type": "code",
   "execution_count": null,
   "id": "3d24ccae-876a-465d-a3e7-8673bd92e309",
   "metadata": {},
   "outputs": [],
   "source": [
    "# generate images for prompts (just conditioned on text)\n",
    "\n",
    "animal_prompts = [\"dog\", \"cat\", \"bunny\", \"monkey\", \"snake\"]\n",
    "people_prompts = [\"doctor\", \"nurse\", \"teacher\", \"programmer\"]\n",
    "# these are things that (I think) usually mean something but have obscure alternate meanings\n",
    "object_prompts = [\"\"]"
   ]
  },
  {
   "cell_type": "code",
   "execution_count": null,
   "id": "94faf1b4-4919-4da4-9f91-c105608a4332",
   "metadata": {},
   "outputs": [],
   "source": [
    "# generate images for prompts + images \n",
    "\n",
    "# animal images to feed in: cartoon version, 3D version\n",
    "# people: 3 gender variations, caucasian and black, old person and young person\n",
    "# objects: pictures of the niche alternate meaning objects"
   ]
  }
 ],
 "metadata": {
  "kernelspec": {
   "display_name": "Python 3 (ipykernel)",
   "language": "python",
   "name": "python3"
  },
  "language_info": {
   "codemirror_mode": {
    "name": "ipython",
    "version": 3
   },
   "file_extension": ".py",
   "mimetype": "text/x-python",
   "name": "python",
   "nbconvert_exporter": "python",
   "pygments_lexer": "ipython3",
   "version": "3.8.10"
  }
 },
 "nbformat": 4,
 "nbformat_minor": 5
}
