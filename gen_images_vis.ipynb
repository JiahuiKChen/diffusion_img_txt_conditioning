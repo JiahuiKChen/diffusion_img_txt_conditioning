{
 "cells": [
  {
   "cell_type": "code",
   "execution_count": 1,
   "id": "b061864c",
   "metadata": {},
   "outputs": [],
   "source": [
    "# NEED THIS TO SAVE TO BIGGER DRIVE\n",
    "import os\n",
    "os.environ['HF_HOME'] = '/datastor1/jiahuikchen/hf_cache'\n",
    "\n",
    "import matplotlib\n",
    "import matplotlib.pyplot as plt\n",
    "%matplotlib inline\n",
    "import numpy as np\n",
    "\n",
    "from diffusers import StableUnCLIPImg2ImgPipeline\n",
    "from diffusers.utils import load_image\n",
    "import torch\n",
    "from torchvision.transforms import v2"
   ]
  },
  {
   "cell_type": "code",
   "execution_count": 2,
   "id": "d706ecad",
   "metadata": {},
   "outputs": [
    {
     "data": {
      "application/vnd.jupyter.widget-view+json": {
       "model_id": "910b61f33c024729a5ee536e9e4f0ea4",
       "version_major": 2,
       "version_minor": 0
      },
      "text/plain": [
       "Loading pipeline components...:   0%|          | 0/9 [00:00<?, ?it/s]"
      ]
     },
     "metadata": {},
     "output_type": "display_data"
    }
   ],
   "source": [
    "# cutmix/mixup\n",
    "cutmix = v2.CutMix(num_classes=1)\n",
    "mixup = v2.MixUp(num_classes=1)\n",
    "preprocess = v2.Compose([\n",
    "    v2.PILToTensor(), \n",
    "    v2.RandomResizedCrop(size=(224, 224), antialias=True),\n",
    "    v2.ToDtype(torch.float32, scale=True)\n",
    "])\n",
    "\n",
    "img_txt_pipe = StableUnCLIPImg2ImgPipeline.from_pretrained(\n",
    "    \"stabilityai/stable-diffusion-2-1-unclip\", torch_dtype=torch.float16, \n",
    ")\n",
    "img_txt_pipe = img_txt_pipe.to(\"cuda:0\")"
   ]
  },
  {
   "cell_type": "code",
   "execution_count": null,
   "id": "c9fe85b0",
   "metadata": {},
   "outputs": [],
   "source": []
  }
 ],
 "metadata": {
  "kernelspec": {
   "display_name": "Python 3 (ipykernel)",
   "language": "python",
   "name": "python3"
  },
  "language_info": {
   "codemirror_mode": {
    "name": "ipython",
    "version": 3
   },
   "file_extension": ".py",
   "mimetype": "text/x-python",
   "name": "python",
   "nbconvert_exporter": "python",
   "pygments_lexer": "ipython3",
   "version": "3.11.5"
  }
 },
 "nbformat": 4,
 "nbformat_minor": 5
}
